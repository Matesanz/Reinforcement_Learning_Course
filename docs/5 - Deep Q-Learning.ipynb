{
 "cells": [
  {
   "cell_type": "code",
   "execution_count": 2,
   "id": "f22a6c64",
   "metadata": {},
   "outputs": [],
   "source": [
    "import os\n",
    "import datetime\n",
    "import numpy as np\n",
    "os.environ['TF_CPP_MIN_LOG_LEVEL'] = '3' # Avoid TF Debug Warnings"
   ]
  },
  {
   "cell_type": "code",
   "execution_count": 96,
   "id": "5abaee94",
   "metadata": {},
   "outputs": [],
   "source": [
    "from tensorflow.keras.models import Sequential, Model\n",
    "from tensorflow.keras.layers import Dense, Input\n",
    "from tensorflow.keras.optimizers import Adam\n",
    "from tensorflow.keras import callbacks"
   ]
  },
  {
   "cell_type": "markdown",
   "id": "a1eb0328",
   "metadata": {},
   "source": [
    "### Gather the data"
   ]
  },
  {
   "cell_type": "code",
   "execution_count": 7,
   "id": "8531520c",
   "metadata": {},
   "outputs": [],
   "source": [
    "from dataclasses import dataclass"
   ]
  },
  {
   "cell_type": "code",
   "execution_count": 8,
   "id": "3ea1368a",
   "metadata": {},
   "outputs": [],
   "source": [
    "@dataclass\n",
    "class Memory:\n",
    "    prev_obs: int\n",
    "    action: int\n",
    "    actual_obs: int\n",
    "    reward: float\n",
    "    done: bool"
   ]
  },
  {
   "cell_type": "code",
   "execution_count": 13,
   "id": "7eb455a0",
   "metadata": {},
   "outputs": [],
   "source": [
    "import gym"
   ]
  },
  {
   "cell_type": "code",
   "execution_count": 17,
   "id": "31c68406",
   "metadata": {},
   "outputs": [],
   "source": [
    "EPISODES = 1000\n",
    "memory_list = []"
   ]
  },
  {
   "cell_type": "code",
   "execution_count": 76,
   "id": "cb9b7312",
   "metadata": {},
   "outputs": [],
   "source": [
    "env = gym.make(\"FrozenLake-v1\", is_slippery=False)"
   ]
  },
  {
   "cell_type": "code",
   "execution_count": 77,
   "id": "3f7539db",
   "metadata": {},
   "outputs": [],
   "source": [
    "for ep in range(EPISODES):\n",
    "    obs = env.reset()\n",
    "    done = False\n",
    "    while not done:\n",
    "        \n",
    "        # Select Action\n",
    "        action = env.action_space.sample() # Random action: Exploration\n",
    "\n",
    "        next_obs, reward, done, _ = env.step(action)\n",
    "        \n",
    "        # Save into memory\n",
    "        mem = Memory(\n",
    "            prev_obs = obs,\n",
    "            action = action,\n",
    "            actual_obs = next_obs,\n",
    "            reward = reward,\n",
    "            done = done\n",
    "        )\n",
    "        \n",
    "        memory_list.append(mem)\n",
    "        \n",
    "        obs = next_obs"
   ]
  },
  {
   "cell_type": "code",
   "execution_count": 78,
   "id": "0935e409",
   "metadata": {},
   "outputs": [
    {
     "data": {
      "text/plain": [
       "15625"
      ]
     },
     "execution_count": 78,
     "metadata": {},
     "output_type": "execute_result"
    }
   ],
   "source": [
    "len(memory_list)"
   ]
  },
  {
   "cell_type": "markdown",
   "id": "4076a3c2",
   "metadata": {},
   "source": [
    "### Define the model"
   ]
  },
  {
   "cell_type": "code",
   "execution_count": 79,
   "id": "72d5fe0f",
   "metadata": {},
   "outputs": [],
   "source": [
    "model = Sequential()\n",
    "model.add(Input(shape=1, name=\"input\"))\n",
    "model.add(Dense(16, activation='relu',name=\"hidden0\"))\n",
    "model.add(Dense(16, activation='relu',name=\"hidden1\"))\n",
    "model.add(Dense(16, activation='relu',name=\"hidden2\"))\n",
    "model.add(Dense(16, activation='relu',name=\"hidden3\"))\n",
    "model.add(Dense(4, activation=\"sigmoid\", name=\"output\"))"
   ]
  },
  {
   "cell_type": "code",
   "execution_count": 80,
   "id": "b44fb84d",
   "metadata": {},
   "outputs": [],
   "source": [
    "model.compile(loss='mse', optimizer=Adam(lr=0.1))"
   ]
  },
  {
   "cell_type": "markdown",
   "id": "07088fff",
   "metadata": {},
   "source": [
    "### Train the model"
   ]
  },
  {
   "cell_type": "code",
   "execution_count": 81,
   "id": "12bab264",
   "metadata": {},
   "outputs": [],
   "source": [
    "import numpy as np\n",
    "import random"
   ]
  },
  {
   "cell_type": "code",
   "execution_count": 82,
   "id": "62075464",
   "metadata": {},
   "outputs": [],
   "source": [
    "batch_size = 64\n",
    "gamma = 0.9"
   ]
  },
  {
   "cell_type": "code",
   "execution_count": 83,
   "id": "7bf98402",
   "metadata": {},
   "outputs": [],
   "source": [
    "logdir = os.path.join(\"logs\", datetime.datetime.now().strftime(\"%Y%m%d-%H%M%S\"))\n",
    "tensorboard_callback = callbacks.TensorBoard(logdir, histogram_freq=1)"
   ]
  },
  {
   "cell_type": "code",
   "execution_count": 93,
   "id": "c6ba36d5",
   "metadata": {},
   "outputs": [],
   "source": [
    "prev_obs_arr = np.array([mem.prev_obs for mem in memory_list])\n",
    "next_obs_arr = np.array([mem.actual_obs for mem in memory_list])\n",
    "done_arr = np.array([mem.done for mem in memory_list])\n",
    "reward_arr = np.array([mem.reward for mem in memory_list])"
   ]
  },
  {
   "cell_type": "code",
   "execution_count": 85,
   "id": "0c6ab4cf",
   "metadata": {},
   "outputs": [],
   "source": [
    "prev_obs_Q = model.predict(prev_obs_arr)\n",
    "next_obs_Q = model.predict(next_obs_arr)"
   ]
  },
  {
   "cell_type": "code",
   "execution_count": 92,
   "id": "7bafaedf",
   "metadata": {},
   "outputs": [],
   "source": [
    "target = prev_obs_Q"
   ]
  },
  {
   "cell_type": "code",
   "execution_count": null,
   "id": "df934ed2",
   "metadata": {},
   "outputs": [],
   "source": [
    "target"
   ]
  },
  {
   "cell_type": "code",
   "execution_count": 90,
   "id": "57df810c",
   "metadata": {
    "scrolled": true
   },
   "outputs": [],
   "source": [
    "memory_sample = random.sample(memory_list, batch_size)\n"
   ]
  },
  {
   "cell_type": "code",
   "execution_count": 94,
   "id": "a388b746",
   "metadata": {},
   "outputs": [],
   "source": [
    "from typing import List"
   ]
  },
  {
   "cell_type": "code",
   "execution_count": 97,
   "id": "655667fd",
   "metadata": {},
   "outputs": [],
   "source": [
    "def learn(memory_sample: List[Memory], model: Model):\n",
    "    for mem in memory_sample:\n",
    "    \n",
    "        prev_obs = np.array([mem.prev_obs])\n",
    "        target = model.predict(prev_obs)\n",
    "\n",
    "        if mem.done:\n",
    "            action_target = mem.reward\n",
    "        else:\n",
    "            Q_actions = model.predict([mem.actual_obs])  # Array with the value of every action\n",
    "            best_Q = np.max(Q_actions)  # highest Q (value of action)\n",
    "            action_target = mem.reward + gamma * best_Q\n",
    "\n",
    "        target[0][action] = action_target\n",
    "        model.fit(prev_obs, target, epochs=1, verbose=0)\n",
    "    \n",
    "    return model"
   ]
  },
  {
   "cell_type": "code",
   "execution_count": 95,
   "id": "88244e13",
   "metadata": {},
   "outputs": [
    {
     "data": {
      "text/plain": [
       "<tensorflow.python.keras.engine.sequential.Sequential at 0x7f05de853f10>"
      ]
     },
     "execution_count": 95,
     "metadata": {},
     "output_type": "execute_result"
    }
   ],
   "source": [
    "model"
   ]
  },
  {
   "cell_type": "code",
   "execution_count": 75,
   "id": "c4270602",
   "metadata": {},
   "outputs": [
    {
     "data": {
      "text/plain": [
       "array([[0.48881668, 0.46771443, 0.39897805, 0.4786297 ]], dtype=float32)"
      ]
     },
     "execution_count": 75,
     "metadata": {},
     "output_type": "execute_result"
    }
   ],
   "source": [
    "model.predict(np.array([14]))"
   ]
  },
  {
   "cell_type": "code",
   "execution_count": 69,
   "id": "8db57d9b",
   "metadata": {},
   "outputs": [],
   "source": [
    "# Load the TensorBoard notebook extension\n",
    "%load_ext tensorboard"
   ]
  },
  {
   "cell_type": "code",
   "execution_count": 70,
   "id": "ce96d82a",
   "metadata": {},
   "outputs": [
    {
     "data": {
      "text/html": [
       "\n",
       "      <iframe id=\"tensorboard-frame-dab3ec515eddc9d8\" width=\"100%\" height=\"800\" frameborder=\"0\">\n",
       "      </iframe>\n",
       "      <script>\n",
       "        (function() {\n",
       "          const frame = document.getElementById(\"tensorboard-frame-dab3ec515eddc9d8\");\n",
       "          const url = new URL(\"/\", window.location);\n",
       "          const port = 6006;\n",
       "          if (port) {\n",
       "            url.port = port;\n",
       "          }\n",
       "          frame.src = url;\n",
       "        })();\n",
       "      </script>\n",
       "    "
      ],
      "text/plain": [
       "<IPython.core.display.HTML object>"
      ]
     },
     "metadata": {},
     "output_type": "display_data"
    }
   ],
   "source": [
    "import tensorboard\n",
    "%tensorboard --logdir logs"
   ]
  },
  {
   "cell_type": "code",
   "execution_count": 49,
   "id": "02e002da",
   "metadata": {},
   "outputs": [
    {
     "data": {
      "text/plain": [
       "0.5"
      ]
     },
     "execution_count": 49,
     "metadata": {},
     "output_type": "execute_result"
    }
   ],
   "source": [
    "np.max(Q_actions)"
   ]
  },
  {
   "cell_type": "code",
   "execution_count": null,
   "id": "280d487c",
   "metadata": {},
   "outputs": [],
   "source": []
  }
 ],
 "metadata": {
  "kernelspec": {
   "display_name": "Python 3 (ipykernel)",
   "language": "python",
   "name": "python3"
  },
  "language_info": {
   "codemirror_mode": {
    "name": "ipython",
    "version": 3
   },
   "file_extension": ".py",
   "mimetype": "text/x-python",
   "name": "python",
   "nbconvert_exporter": "python",
   "pygments_lexer": "ipython3",
   "version": "3.9.6"
  }
 },
 "nbformat": 4,
 "nbformat_minor": 5
}
