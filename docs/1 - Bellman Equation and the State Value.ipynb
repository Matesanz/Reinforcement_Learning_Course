{
 "cells": [
  {
   "cell_type": "markdown",
   "id": "018813cb",
   "metadata": {},
   "source": [
    "# Bellman Equation: the State Value"
   ]
  },
  {
   "cell_type": "markdown",
   "id": "6d170d38",
   "metadata": {},
   "source": [
    "![Bellman_1](https://user-images.githubusercontent.com/44867923/140994838-db45e51e-d92b-4b37-9df6-99e1a7e2def3.jpg)\n",
    "![Bellman_2](https://user-images.githubusercontent.com/44867923/140994794-51d739af-eb70-4e6a-9036-b925f23ab7fd.jpg)"
   ]
  },
  {
   "cell_type": "code",
   "execution_count": 1,
   "id": "dc907e39",
   "metadata": {},
   "outputs": [],
   "source": [
    "import gym\n",
    "import numpy as np\n",
    "import seaborn as sns"
   ]
  },
  {
   "cell_type": "markdown",
   "id": "df1bb9d0",
   "metadata": {},
   "source": [
    "### Create the env: Deterministic Frozen-Lake"
   ]
  },
  {
   "cell_type": "code",
   "execution_count": 2,
   "id": "aa1ca95b",
   "metadata": {},
   "outputs": [],
   "source": [
    "env = gym.make(\"FrozenLake-v1\", is_slippery=True)"
   ]
  },
  {
   "cell_type": "markdown",
   "id": "36d386e2",
   "metadata": {},
   "source": [
    "### Create V Table: A value for every state"
   ]
  },
  {
   "cell_type": "code",
   "execution_count": 3,
   "id": "18eb737d",
   "metadata": {},
   "outputs": [
    {
     "data": {
      "text/plain": [
       "array([0., 0., 0., 0., 0., 0., 0., 0., 0., 0., 0., 0., 0., 0., 0., 0.])"
      ]
     },
     "execution_count": 3,
     "metadata": {},
     "output_type": "execute_result"
    }
   ],
   "source": [
    "V = np.zeros(env.observation_space.n)\n",
    "V"
   ]
  },
  {
   "cell_type": "markdown",
   "id": "c9849f3e",
   "metadata": {},
   "source": [
    "### Agent: play the environment and update the V table"
   ]
  },
  {
   "cell_type": "code",
   "execution_count": 4,
   "id": "4652f224",
   "metadata": {},
   "outputs": [],
   "source": [
    "gamma = 0.9\n",
    "for ep in range(1000):\n",
    "    obs = env.reset()\n",
    "    done = False\n",
    "\n",
    "    while not done:\n",
    "\n",
    "        action = env.action_space.sample()\n",
    "        next_obs, reward, done, _ = env.step(action)\n",
    "\n",
    "        previous_obs_value = V[obs]\n",
    "        actual_obs_value = reward + gamma*V[next_obs]\n",
    "\n",
    "        if actual_obs_value > previous_obs_value:\n",
    "             V[obs] = actual_obs_value\n",
    "\n",
    "        obs = next_obs"
   ]
  },
  {
   "cell_type": "markdown",
   "id": "95161d3c",
   "metadata": {},
   "source": [
    "### Plot V Table: The value of every State"
   ]
  },
  {
   "cell_type": "code",
   "execution_count": 5,
   "id": "df3b34ea",
   "metadata": {},
   "outputs": [
    {
     "data": {
      "text/plain": [
       "<AxesSubplot:>"
      ]
     },
     "execution_count": 5,
     "metadata": {},
     "output_type": "execute_result"
    },
    {
     "data": {
      "image/png": "[encoded data removed]",
      "text/plain": [
       "<Figure size 432x288 with 2 Axes>"
      ]
     },
     "metadata": {
      "needs_background": "light"
     },
     "output_type": "display_data"
    }
   ],
   "source": [
    "sns.heatmap(\n",
    "    data=V.reshape(4,4),\n",
    "    annot=True\n",
    ")"
   ]
  },
  {
   "cell_type": "code",
   "execution_count": null,
   "id": "b4b2a99b",
   "metadata": {},
   "outputs": [],
   "source": []
  }
 ],
 "metadata": {
  "kernelspec": {
   "display_name": "Python 3 (ipykernel)",
   "language": "python",
   "name": "python3"
  },
  "language_info": {
   "codemirror_mode": {
    "name": "ipython",
    "version": 3
   },
   "file_extension": ".py",
   "mimetype": "text/x-python",
   "name": "python",
   "nbconvert_exporter": "python",
   "pygments_lexer": "ipython3",
   "version": "3.9.6"
  }
 },
 "nbformat": 4,
 "nbformat_minor": 5
}
